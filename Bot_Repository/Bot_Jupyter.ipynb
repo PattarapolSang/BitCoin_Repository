{
 "metadata": {
  "language_info": {
   "codemirror_mode": {
    "name": "ipython",
    "version": 3
   },
   "file_extension": ".py",
   "mimetype": "text/x-python",
   "name": "python",
   "nbconvert_exporter": "python",
   "pygments_lexer": "ipython3",
   "version": "3.9.3-final"
  },
  "orig_nbformat": 2,
  "kernelspec": {
   "name": "python393jvsc74a57bd042cbaba6a44e0236da8f6069f5e8524172b0dd6886a654f63ffdbc4ee2230b21",
   "display_name": "Python 3.9.3 64-bit"
  },
  "metadata": {
   "interpreter": {
    "hash": "42cbaba6a44e0236da8f6069f5e8524172b0dd6886a654f63ffdbc4ee2230b21"
   }
  }
 },
 "nbformat": 4,
 "nbformat_minor": 2,
 "cells": [
  {
   "cell_type": "code",
   "execution_count": 1,
   "metadata": {},
   "outputs": [
    {
     "output_type": "stream",
     "name": "stdout",
     "text": [
      "open connection\n",
      "recieve message\n",
      "recieve message\n",
      "recieve message\n",
      "recieve message\n",
      "recieve message\n",
      "recieve message\n",
      "closed connection\n"
     ]
    },
    {
     "output_type": "execute_result",
     "data": {
      "text/plain": [
       "False"
      ]
     },
     "metadata": {},
     "execution_count": 1
    }
   ],
   "source": [
    "import websocket\n",
    "\n",
    "SOCKET = \"wss://stream.binance.com:9443/ws/bnbbtc@kline_1m\"\n",
    "\n",
    "def on_open(ws):\n",
    "    print('open connection')\n",
    "\n",
    "def on_close(ws):\n",
    "    print('closed connection')\n",
    "\n",
    "def on_message(ws, message):\n",
    "    print('recieve message')\n",
    "\n",
    "ws = websocket.WebSocketApp(SOCKET, on_open=on_open, on_close=on_close, on_message=on_message)\n",
    "ws.run_forever()\n",
    "\n"
   ]
  },
  {
   "cell_type": "code",
   "execution_count": null,
   "metadata": {},
   "outputs": [],
   "source": []
  }
 ]
}